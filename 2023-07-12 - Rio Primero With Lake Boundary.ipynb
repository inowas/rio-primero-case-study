{
 "cells": [
  {
   "cell_type": "markdown",
   "source": [
    "# Rio Primero Groundwater Model"
   ],
   "metadata": {
    "collapsed": false
   }
  },
  {
   "cell_type": "markdown",
   "source": [
    "This is the groundwater model for the IWRM Lecture 07.01.2020!"
   ],
   "metadata": {
    "collapsed": false
   }
  },
  {
   "cell_type": "markdown",
   "source": [
    "## First we need all necessary imports"
   ],
   "metadata": {
    "collapsed": false
   }
  },
  {
   "cell_type": "code",
   "execution_count": null,
   "outputs": [],
   "source": [
    "import os\n",
    "import numpy as np\n",
    "import flopy.modflow as mf\n",
    "import shutil"
   ],
   "metadata": {
    "collapsed": false
   }
  },
  {
   "cell_type": "markdown",
   "source": [
    "* The modflow-files will be stored in './workspace'\n",
    "* Each calculation will delete the files"
   ],
   "metadata": {
    "collapsed": false
   }
  },
  {
   "cell_type": "code",
   "execution_count": null,
   "outputs": [],
   "source": [
    "workspace = os.path.join('workspace')\n",
    "\n",
    "if os.path.exists(workspace):\n",
    "    shutil.rmtree(workspace)\n",
    "\n",
    "if not os.path.exists(workspace):\n",
    "    os.makedirs(workspace)\n"
   ],
   "metadata": {
    "collapsed": false
   }
  },
  {
   "cell_type": "raw",
   "source": [
    "Let's assume we will create a Modflow 2005 Model"
   ],
   "metadata": {
    "collapsed": false
   }
  },
  {
   "cell_type": "markdown",
   "source": [
    "### Setup Model"
   ],
   "metadata": {
    "collapsed": false
   }
  },
  {
   "cell_type": "code",
   "execution_count": null,
   "outputs": [],
   "source": [
    "model = mf.Modflow(modelname='RP1', exe_name='./modflow/mf2005', model_ws=workspace)"
   ],
   "metadata": {
    "collapsed": false
   }
  },
  {
   "cell_type": "markdown",
   "source": [
    "### Setup Discretization"
   ],
   "metadata": {
    "collapsed": false
   }
  },
  {
   "cell_type": "code",
   "execution_count": null,
   "outputs": [],
   "source": [
    "nlay = 1\n",
    "nrow = 6\n",
    "ncol = 11\n",
    "\n",
    "delr = 6000/nrow\n",
    "delc = 11000/ncol\n",
    "\n",
    "dis = mf.ModflowDis(model, nlay=nlay, nrow=nrow, ncol=ncol, delr=delr, delc=delc, top=460, botm=390, nper=1, steady=True)\n",
    "dis.plot()"
   ],
   "metadata": {
    "collapsed": false
   }
  },
  {
   "cell_type": "markdown",
   "source": [
    "### Setup Basic Package"
   ],
   "metadata": {
    "collapsed": false
   }
  },
  {
   "cell_type": "code",
   "execution_count": null,
   "outputs": [],
   "source": [
    "bas = mf.ModflowBas(model, ibound=1, strt=455.0)\n",
    "bas.plot()"
   ],
   "metadata": {
    "collapsed": false
   }
  },
  {
   "cell_type": "markdown",
   "source": [
    "### Setup Boundary Conditions East/West"
   ],
   "metadata": {
    "collapsed": false
   }
  },
  {
   "cell_type": "code",
   "execution_count": null,
   "outputs": [],
   "source": [
    "spd = {\n",
    "    0: [\n",
    "        [0, 0, 0, 450, 450],\n",
    "        [0, 1, 0, 450, 450],\n",
    "        [0, 2, 0, 450, 450],\n",
    "        [0, 3, 0, 450, 450],\n",
    "        [0, 4, 0, 450, 450],\n",
    "        [0, 5, 0, 450, 450],\n",
    "        [0, 0, 10, 445, 445],\n",
    "        [0, 1, 10, 445, 445],\n",
    "        [0, 2, 10, 445, 445],\n",
    "        [0, 3, 10, 445, 445],\n",
    "        [0, 4, 10, 445, 445],\n",
    "        [0, 5, 10, 445, 445],\n",
    "    ]\n",
    "}\n",
    "\n",
    "chd = mf.ModflowChd(model, stress_period_data=spd)\n",
    "chd.plot()"
   ],
   "metadata": {
    "collapsed": false
   }
  },
  {
   "cell_type": "markdown",
   "source": [
    "### Setup Recharge\n"
   ],
   "metadata": {
    "collapsed": false
   }
  },
  {
   "cell_type": "code",
   "execution_count": null,
   "outputs": [],
   "source": [
    "rech = {}\n",
    "rech[0] = 0.00033\n",
    "rch = mf.ModflowRch(model, rech=rech)\n",
    "rch.plot()"
   ],
   "metadata": {
    "collapsed": false
   }
  },
  {
   "cell_type": "markdown",
   "source": [
    "### Setup River"
   ],
   "metadata": {
    "collapsed": false
   }
  },
  {
   "cell_type": "code",
   "execution_count": null,
   "outputs": [],
   "source": [
    "spd = {\n",
    "    0: [\n",
    "        [0, 5, 1, 450, 86.4, 448],\n",
    "        [0, 5, 2, 450, 86.4, 448],\n",
    "        [0, 4, 2, 450, 86.4, 448],\n",
    "        [0, 4, 3, 450, 86.4, 448],\n",
    "        [0, 3, 3, 450, 86.4, 448],\n",
    "        [0, 3, 4, 450, 86.4, 448],\n",
    "        [0, 3, 5, 450, 86.4, 448],\n",
    "        [0, 3, 6, 450, 86.4, 448],\n",
    "        [0, 3, 7, 450, 86.4, 448],\n",
    "        [0, 2, 7, 450, 86.4, 448],\n",
    "        [0, 2, 8, 450, 86.4, 448],\n",
    "        [0, 2, 9, 450, 86.4, 448],\n",
    "        [0, 1, 10, 450, 86.4, 448],\n",
    "    ]\n",
    "}\n",
    "riv = mf.ModflowRiv(model, stress_period_data=spd)\n",
    "riv.plot()"
   ],
   "metadata": {
    "collapsed": false
   }
  },
  {
   "cell_type": "markdown",
   "source": [
    "### Setup Wells"
   ],
   "metadata": {
    "collapsed": false
   }
  },
  {
   "cell_type": "code",
   "execution_count": null,
   "outputs": [],
   "source": [
    "spd = {\n",
    "    0: [\n",
    "\n",
    "        [0, 1, 9, -5000],\n",
    "        [0, 4, 4, -5000],\n",
    "    ]\n",
    "}\n",
    "wel = mf.ModflowWel(model, stress_period_data=spd)\n",
    "wel.plot()"
   ],
   "metadata": {
    "collapsed": false
   }
  },
  {
   "cell_type": "markdown",
   "source": [
    "### Setup lake"
   ],
   "metadata": {
    "collapsed": false
   }
  },
  {
   "cell_type": "code",
   "execution_count": null,
   "outputs": [],
   "source": [
    "lakArr = np.zeros((nlay,nrow,ncol))\n",
    "lakArr[0, 4, 9] = 1\n",
    "lakArr[0, 0, 4] = 2"
   ],
   "metadata": {
    "collapsed": false
   }
  },
  {
   "cell_type": "code",
   "execution_count": null,
   "outputs": [],
   "source": [
    "ibound = np.ones((nlay,nrow,ncol))\n",
    "wetdry = -0.01 * np.ones((nlay,nrow,ncol))\n",
    "\n",
    "ibound = np.where(lakArr > 0, 0, ibound) #IBOUND should be set to zero for every lake cell (LKARR >0)\n",
    "wetdry = np.where(lakArr > 0, 0, wetdry) #WETDRY should be set to zero for every lake cell (LKARR >0)"
   ],
   "metadata": {
    "collapsed": false
   }
  },
  {
   "cell_type": "code",
   "execution_count": null,
   "outputs": [],
   "source": [
    "bdlknc=np.ones((nlay,nrow,ncol))*0.03"
   ],
   "metadata": {
    "collapsed": false
   }
  },
  {
   "cell_type": "code",
   "execution_count": null,
   "outputs": [],
   "source": [
    "flux_data={0:[[0.003, 0.0073, 0.0, 0.0],\n",
    "              [0.005, 0.0073, 0.0, 0.0]]}"
   ],
   "metadata": {
    "collapsed": false
   }
  },
  {
   "cell_type": "code",
   "execution_count": null,
   "outputs": [],
   "source": [
    "lak = mf.ModflowLak(\n",
    "    model,\n",
    "    nlakes=2,\n",
    "    theta=-1,\n",
    "    nssitr=0,\n",
    "    sscncr=0.001,\n",
    "    surfdep=[0.5,0.7],\n",
    "    stages=[446,445.5],\n",
    "    stage_range=[[445.0,450.0], [444.5,452.0]],\n",
    "    lakarr=lakArr,\n",
    "    bdlknc=bdlknc,\n",
    "    flux_data=flux_data,\n",
    "    unit_number=16,\n",
    "    lwrt=0,\n",
    ")"
   ],
   "metadata": {
    "collapsed": false
   }
  },
  {
   "cell_type": "markdown",
   "source": [
    "### Setup Flow-Package (incl. soil parameters)"
   ],
   "metadata": {
    "collapsed": false
   }
  },
  {
   "cell_type": "code",
   "execution_count": null,
   "outputs": [],
   "source": [
    "lpf = mf.ModflowLpf(model, hk=8.64, vka=0.864, ss=1e-5, sy=0.2)\n",
    "lpf.plot()"
   ],
   "metadata": {
    "collapsed": false
   }
  },
  {
   "cell_type": "markdown",
   "metadata": {},
   "source": [
    "### The Solver and Output Control"
   ]
  },
  {
   "cell_type": "code",
   "execution_count": null,
   "metadata": {},
   "outputs": [],
   "source": [
    "pcg = mf.ModflowPcg(model, rclose=1e-2, hclose=1e-2)\n",
    "oc = mf.ModflowOc(model)"
   ]
  },
  {
   "cell_type": "markdown",
   "metadata": {},
   "source": [
    "### Calculate the model"
   ]
  },
  {
   "cell_type": "code",
   "execution_count": null,
   "metadata": {},
   "outputs": [],
   "source": [
    "model.write_input()\n",
    "model.run_model()"
   ]
  },
  {
   "cell_type": "markdown",
   "metadata": {},
   "source": [
    "### Read calculated data"
   ]
  },
  {
   "cell_type": "code",
   "execution_count": null,
   "metadata": {},
   "outputs": [],
   "source": [
    "import flopy.utils as fu\n",
    "\n",
    "hds = fu.HeadFile(os.path.join(workspace, 'RP1.hds'))\n",
    "h = hds.get_data(kstpkper=(0,0))\n",
    "h"
   ]
  },
  {
   "cell_type": "markdown",
   "metadata": {},
   "source": [
    "### Plot"
   ]
  },
  {
   "cell_type": "code",
   "execution_count": null,
   "metadata": {},
   "outputs": [],
   "source": [
    "import matplotlib.pyplot as plt\n",
    "%matplotlib inline\n",
    "\n",
    "x = np.linspace(0, delr * ncol, ncol)\n",
    "y = np.linspace(delc* nrow, 0, nrow)\n",
    "\n",
    "c = plt.contour(x, y, h[0], np.arange(430.0, 460.0, 1.0))\n",
    "plt.clabel(c, fmt='%2.1f')\n",
    "plt.axis('scaled')\n",
    "plt.plot()"
   ]
  }
 ],
 "metadata": {
  "kernelspec": {
   "display_name": "Python 3 (ipykernel)",
   "language": "python",
   "name": "python3"
  },
  "language_info": {
   "codemirror_mode": {
    "name": "ipython",
    "version": 3
   },
   "file_extension": ".py",
   "mimetype": "text/x-python",
   "name": "python",
   "nbconvert_exporter": "python",
   "pygments_lexer": "ipython3",
   "version": "3.11.4"
  }
 },
 "nbformat": 4,
 "nbformat_minor": 2
}
