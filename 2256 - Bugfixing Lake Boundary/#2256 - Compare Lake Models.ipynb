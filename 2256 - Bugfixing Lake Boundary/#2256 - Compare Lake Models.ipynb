{
 "cells": [
  {
   "cell_type": "markdown",
   "metadata": {},
   "source": [
    "## First we need all necessary imports"
   ]
  },
  {
   "cell_type": "code",
   "execution_count": 1,
   "outputs": [],
   "source": [
    "import os\n",
    "import numpy as np\n",
    "import flopy.modflow as mf\n",
    "import shutil\n",
    "import geojson\n",
    "import pyproj"
   ],
   "metadata": {
    "collapsed": false,
    "ExecuteTime": {
     "end_time": "2023-08-24T09:13:03.315905Z",
     "start_time": "2023-08-24T09:13:02.931021Z"
    }
   }
  },
  {
   "cell_type": "markdown",
   "metadata": {},
   "source": [
    "* The modflow-files will be stored in './workspace' \n",
    "* Each calculation will delete the files"
   ]
  },
  {
   "cell_type": "code",
   "execution_count": 2,
   "outputs": [
    {
     "name": "stdout",
     "output_type": "stream",
     "text": [
      "FloPy is using the following executable to run the model: ../../modflow/mf2005\n",
      "\n",
      "                                  MODFLOW-2005     \n",
      "    U.S. GEOLOGICAL SURVEY MODULAR FINITE-DIFFERENCE GROUND-WATER FLOW MODEL\n",
      "                             Version 1.12.00 2/3/2017                        \n",
      "\n",
      " Using NAME file: lak_test.nam \n",
      " Run start date and time (yyyy/mm/dd hh:mm:ss): 2023/08/24 11:13:03\n",
      "\n",
      " Solving:  Stress period:     1    Time step:     1    Ground-Water Flow Eqn.\n",
      " Run end date and time (yyyy/mm/dd hh:mm:ss): 2023/08/24 11:13:03\n",
      " Elapsed run time:  0.002 Seconds\n",
      "\n",
      "  Normal termination of simulation\n"
     ]
    },
    {
     "data": {
      "text/plain": "(True, [])"
     },
     "execution_count": 2,
     "metadata": {},
     "output_type": "execute_result"
    }
   ],
   "source": [
    "import json\n",
    "f = open('configuration.json')\n",
    "configuration = json.load(f)\n",
    "f.close()\n",
    "modflow_data = configuration['data']['mf']\n",
    "\n",
    "platform_model_workspace = os.path.join('platform_model')\n",
    "\n",
    "if os.path.exists(platform_model_workspace):\n",
    "    shutil.rmtree(platform_model_workspace)\n",
    "    \n",
    "if not os.path.exists(platform_model_workspace):\n",
    "    os.makedirs(platform_model_workspace)\n",
    "\n",
    "import MfPackages\n",
    "mf_data_obj = modflow_data['mf']\n",
    "mf_data_obj['modelname'] = 'lak_test'\n",
    "mf_data_obj['exe_name'] = '../modflow/mf2005'\n",
    "mf_data_obj['model_ws'] = platform_model_workspace\n",
    "platform_model = MfPackages.MfAdapter(mf_data_obj).get_package()\n",
    "MfPackages.DisAdapter(modflow_data['dis']).get_package(platform_model)\n",
    "MfPackages.BasAdapter(modflow_data['bas']).get_package(platform_model)\n",
    "MfPackages.ChdAdapter(modflow_data['chd']).get_package(platform_model)\n",
    "MfPackages.LakAdapter(modflow_data['lak']).get_package(platform_model)\n",
    "MfPackages.LpfAdapter(modflow_data['lpf']).get_package(platform_model)\n",
    "MfPackages.PcgAdapter(modflow_data['pcg']).get_package(platform_model)\n",
    "MfPackages.OcAdapter(modflow_data['oc']).get_package(platform_model)\n",
    "\n",
    "\n",
    "platform_model.write_input()\n",
    "platform_model.run_model()\n"
   ],
   "metadata": {
    "collapsed": false,
    "ExecuteTime": {
     "end_time": "2023-08-24T09:13:03.338866Z",
     "start_time": "2023-08-24T09:13:03.319158Z"
    }
   }
  },
  {
   "cell_type": "code",
   "execution_count": 3,
   "outputs": [
    {
     "name": "stdout",
     "output_type": "stream",
     "text": [
      "FloPy is using the following executable to run the model: ../../modflow/mf2005\n",
      "\n",
      "                                  MODFLOW-2005     \n",
      "    U.S. GEOLOGICAL SURVEY MODULAR FINITE-DIFFERENCE GROUND-WATER FLOW MODEL\n",
      "                             Version 1.12.00 2/3/2017                        \n",
      "\n",
      " Using NAME file: lak_test.nam \n",
      " Run start date and time (yyyy/mm/dd hh:mm:ss): 2023/08/24 11:13:03\n",
      "\n",
      " Solving:  Stress period:     1    Time step:     1    Ground-Water Flow Eqn.\n",
      " Run end date and time (yyyy/mm/dd hh:mm:ss): 2023/08/24 11:13:03\n",
      " Elapsed run time:  0.002 Seconds\n",
      "\n",
      "  Normal termination of simulation\n"
     ]
    },
    {
     "data": {
      "text/plain": "(True, [])"
     },
     "execution_count": 3,
     "metadata": {},
     "output_type": "execute_result"
    }
   ],
   "source": [
    "flopy_model_workspace = os.path.join('flopy_model')\n",
    "\n",
    "if os.path.exists(flopy_model_workspace):\n",
    "    shutil.rmtree(flopy_model_workspace)\n",
    "    \n",
    "if not os.path.exists(flopy_model_workspace):\n",
    "    os.makedirs(flopy_model_workspace)\n",
    "    \n",
    "flopy_model = mf.Modflow(\n",
    "    modelname='lak_test', \n",
    "    exe_name='../modflow/mf2005', \n",
    "    model_ws=flopy_model_workspace\n",
    ")\n",
    "\n",
    "nlay = 1\n",
    "nrow = 6\n",
    "ncol = 11\n",
    "delr = [37871., 37872., 37871., 37871., 37871., 37867., 37871., 37871. , 37871., 37871., 37871.]\n",
    "delc = [57612., 57609., 57612., 57612., 57609., 57612.]\n",
    "\n",
    "mf.ModflowDis(flopy_model, nlay=nlay, nrow=nrow, ncol=ncol, delr=delr, delc=delc, top=460, botm=390, nper=1, steady=True)\n",
    "\n",
    "spd = {\n",
    "    0: [\n",
    "        [0, 0, 0, 450, 450],\n",
    "        [0, 1, 0, 450, 450],\n",
    "        [0, 2, 0, 450, 450],\n",
    "        [0, 3, 0, 450, 450],\n",
    "        [0, 4, 0, 450, 450],\n",
    "        [0, 5, 0, 450, 450],\n",
    "        [0, 0, 10, 445, 445],\n",
    "        [0, 1, 10, 445, 445],\n",
    "        [0, 2, 10, 445, 445],\n",
    "        [0, 3, 10, 445, 445],\n",
    "        [0, 4, 10, 445, 445],\n",
    "        [0, 5, 10, 445, 445],\n",
    "    ]\n",
    "}\n",
    "\n",
    "mf.ModflowChd(flopy_model, stress_period_data=spd)\n",
    "\n",
    "lakArr = np.zeros((nlay,nrow,ncol))\n",
    "lakArr[0, 2, 4] = 1\n",
    "lakArr[0, 2, 5] = 1\n",
    "lakArr[0, 2, 6] = 1\n",
    "lakArr[0, 3, 4] = 1\n",
    "lakArr[0, 3, 5] = 1\n",
    "lakArr[0, 3, 6] = 1\n",
    "ibound = np.ones((nlay,nrow,ncol))\n",
    "wetdry = -0.01 * np.ones((nlay,nrow,ncol))\n",
    "ibound = np.where(lakArr > 0, 0, ibound) #IBOUND should be set to zero for every lake cell (LKARR >0)\n",
    "wetdry = np.where(lakArr > 0, 0, wetdry) #WETDRY should be set to zero for every lake cell (LKARR >0)\n",
    "bdlknc=np.zeros((nlay,nrow,ncol))\n",
    "bdlknc = np.where(lakArr ==1, 10.0, bdlknc) #setting bed leakance value for lake 1\n",
    "bdlknc = np.where(lakArr ==2, 20.0, bdlknc) #setting bed leakance value for lake 2\n",
    "flux_data={0:[[0.003, 0.0073, 0.0, 0.0],\n",
    "              [0.005, 0.0073, 0.0, 0.0]]}\n",
    "\n",
    "mf.ModflowLak(\n",
    "    flopy_model,\n",
    "    nlakes=1,\n",
    "    theta=-1,\n",
    "    nssitr=0,\n",
    "    sscncr=0.001,\n",
    "    surfdep=0,\n",
    "    stages=[449.0],\n",
    "    stage_range=[[445.0,450.0]],\n",
    "    lakarr=lakArr,\n",
    "    bdlknc=bdlknc,\n",
    "    flux_data=flux_data,\n",
    "    unit_number=16,\n",
    "    lwrt=0,\n",
    ")\n",
    "\n",
    "mf.ModflowBas(flopy_model, ibound=ibound, strt=455.0)\n",
    "mf.ModflowLpf(flopy_model, hk=8.64, vka=0.864, ss=1e-5, sy=0.2, wetdry=wetdry)\n",
    "mf.ModflowPcg(flopy_model, rclose=1e-2, hclose=1e-2)\n",
    "mf.ModflowOc(flopy_model)\n",
    "\n",
    "flopy_model.write_input()\n",
    "flopy_model.run_model()"
   ],
   "metadata": {
    "collapsed": false,
    "ExecuteTime": {
     "end_time": "2023-08-24T09:13:03.391845Z",
     "start_time": "2023-08-24T09:13:03.338595Z"
    }
   }
  },
  {
   "cell_type": "markdown",
   "metadata": {},
   "source": [
    "### Read calculated data"
   ]
  },
  {
   "cell_type": "code",
   "execution_count": 4,
   "metadata": {
    "ExecuteTime": {
     "end_time": "2023-08-24T09:13:03.395713Z",
     "start_time": "2023-08-24T09:13:03.390901Z"
    }
   },
   "outputs": [
    {
     "data": {
      "text/plain": "array([[[450.     , 449.55933, 449.10083, 448.60574, 448.06143,\n         447.5    , 446.93854, 446.39426, 445.89917, 445.44067,\n         445.     ],\n        [450.     , 449.6005 , 449.18555, 448.71964, 448.1012 ,\n         447.5    , 446.89877, 446.28036, 445.81445, 445.3995 ,\n         445.     ],\n        [450.     , 449.67746, 449.38818, 449.18646, 449.     ,\n         449.     , 449.     , 445.81354, 445.61182, 445.32254,\n         445.     ],\n        [450.     , 449.67746, 449.38818, 449.18646, 449.     ,\n         449.     , 449.     , 445.81354, 445.61182, 445.32254,\n         445.     ],\n        [450.     , 449.6005 , 449.18555, 448.71964, 448.1012 ,\n         447.5    , 446.89877, 446.28036, 445.81445, 445.3995 ,\n         445.     ],\n        [450.     , 449.55933, 449.10083, 448.60574, 448.06143,\n         447.5    , 446.93854, 446.39426, 445.89917, 445.44067,\n         445.     ]]], dtype=float32)"
     },
     "execution_count": 4,
     "metadata": {},
     "output_type": "execute_result"
    }
   ],
   "source": [
    "import flopy.utils as fu\n",
    "\n",
    "hds = fu.HeadFile(os.path.join(platform_model_workspace, 'lak_test.hds'))\n",
    "h = hds.get_data(kstpkper=(0,0))\n",
    "h"
   ]
  },
  {
   "cell_type": "code",
   "execution_count": 5,
   "outputs": [
    {
     "data": {
      "text/plain": "array([[[450.     , 449.55933, 449.10083, 448.60574, 448.06143,\n         447.5    , 446.93854, 446.39426, 445.89917, 445.44067,\n         445.     ],\n        [450.     , 449.6005 , 449.18555, 448.71964, 448.1012 ,\n         447.5    , 446.89877, 446.28036, 445.81445, 445.3995 ,\n         445.     ],\n        [450.     , 449.67746, 449.38818, 449.18646, 449.     ,\n         449.     , 449.     , 445.81354, 445.61182, 445.32254,\n         445.     ],\n        [450.     , 449.67746, 449.38818, 449.18646, 449.     ,\n         449.     , 449.     , 445.81354, 445.61182, 445.32254,\n         445.     ],\n        [450.     , 449.6005 , 449.18555, 448.71964, 448.1012 ,\n         447.5    , 446.89877, 446.28036, 445.81445, 445.3995 ,\n         445.     ],\n        [450.     , 449.55933, 449.10083, 448.60574, 448.06143,\n         447.5    , 446.93854, 446.39426, 445.89917, 445.44067,\n         445.     ]]], dtype=float32)"
     },
     "execution_count": 5,
     "metadata": {},
     "output_type": "execute_result"
    }
   ],
   "source": [
    "import flopy.utils as fu\n",
    "\n",
    "hds = fu.HeadFile(os.path.join(flopy_model_workspace, 'lak_test.hds'))\n",
    "h = hds.get_data(kstpkper=(0,0))\n",
    "h"
   ],
   "metadata": {
    "collapsed": false,
    "ExecuteTime": {
     "end_time": "2023-08-24T09:13:03.403714Z",
     "start_time": "2023-08-24T09:13:03.397219Z"
    }
   }
  },
  {
   "cell_type": "code",
   "execution_count": 5,
   "outputs": [],
   "source": [],
   "metadata": {
    "collapsed": false,
    "ExecuteTime": {
     "end_time": "2023-08-24T09:13:03.403955Z",
     "start_time": "2023-08-24T09:13:03.401205Z"
    }
   }
  },
  {
   "cell_type": "code",
   "execution_count": 5,
   "outputs": [],
   "source": [],
   "metadata": {
    "collapsed": false,
    "ExecuteTime": {
     "end_time": "2023-08-24T09:13:03.405131Z",
     "start_time": "2023-08-24T09:13:03.403391Z"
    }
   }
  },
  {
   "cell_type": "code",
   "execution_count": 6,
   "outputs": [
    {
     "name": "stdout",
     "output_type": "stream",
     "text": [
      "strt is equal\n",
      "ibound is equal\n",
      "heading is equal\n",
      "options is equal\n",
      "ixsec is equal\n",
      "ichflg is equal\n",
      "stoper is equal\n",
      "hnoflo is equal\n"
     ]
    }
   ],
   "source": [
    "flopy_bas = flopy_model.get_package('BAS6')\n",
    "platform_bas = platform_model.get_package('BAS6')\n",
    "\n",
    "\n",
    "if (flopy_bas.strt.array == platform_bas.strt.array).all():\n",
    "    print('strt is equal')\n",
    "else:\n",
    "    print(flopy_bas.strt.array)\n",
    "    print(platform_bas.strt.array)\n",
    "    \n",
    "if (flopy_bas.ibound.array == platform_bas.ibound.array).all():\n",
    "    print('ibound is equal')\n",
    "else:\n",
    "    print(flopy_bas.ibound.array)\n",
    "    print(platform_bas.ibound.array)\n",
    "    \n",
    "if flopy_bas.heading == platform_bas.heading:\n",
    "    print('heading is equal')\n",
    "else:\n",
    "    print('heading is not equal')\n",
    "    \n",
    "if flopy_bas.options == platform_bas.options:\n",
    "    print('options is equal')\n",
    "else:\n",
    "    print('options is not equal')\n",
    "    \n",
    "if flopy_bas.ixsec == platform_bas.ixsec:\n",
    "    print('ixsec is equal')\n",
    "else:\n",
    "    print('ixsec is not equal')\n",
    "    \n",
    "if flopy_bas.ichflg == platform_bas.ichflg:\n",
    "    print('ichflg is equal')\n",
    "else:\n",
    "    print('ichflg is not equal')\n",
    "    \n",
    "if flopy_bas.stoper == platform_bas.stoper:\n",
    "    print('stoper is equal')\n",
    "else:\n",
    "    print('stoper is not equal')\n",
    "    \n",
    "if flopy_bas.hnoflo == platform_bas.hnoflo:\n",
    "    print('hnoflo is equal')\n",
    "else:\n",
    "    print('hnoflo is not equal')\n",
    "    "
   ],
   "metadata": {
    "collapsed": false,
    "ExecuteTime": {
     "end_time": "2023-08-24T09:13:03.433923Z",
     "start_time": "2023-08-24T09:13:03.405287Z"
    }
   }
  },
  {
   "cell_type": "code",
   "execution_count": 6,
   "outputs": [],
   "source": [],
   "metadata": {
    "collapsed": false,
    "ExecuteTime": {
     "end_time": "2023-08-24T09:13:03.434117Z",
     "start_time": "2023-08-24T09:13:03.411201Z"
    }
   }
  },
  {
   "cell_type": "code",
   "execution_count": 7,
   "outputs": [
    {
     "name": "stdout",
     "output_type": "stream",
     "text": [
      "nrow is equal\n",
      "ncol is equal\n",
      "nlay is equal\n",
      "nper is equal\n",
      "laycbd is equal\n",
      "delr is equal\n",
      "delc is equal\n",
      "top is equal\n",
      "botm is equal\n",
      "perlen is equal\n",
      "nstp is equal\n",
      "tsmult is equal\n",
      "steady is equal\n",
      "itmuni is equal\n",
      "lenuni is equal\n"
     ]
    }
   ],
   "source": [
    "flopy_dis = flopy_model.get_package('DIS')\n",
    "platform_dis = platform_model.get_package('DIS')\n",
    "\n",
    "if flopy_dis.nrow == platform_dis.nrow:\n",
    "    print('nrow is equal')\n",
    "else:\n",
    "    print('nrow is not equal')\n",
    "if flopy_dis.ncol == platform_dis.ncol:\n",
    "    print('ncol is equal')\n",
    "else:\n",
    "    print('ncol is not equal')\n",
    "if flopy_dis.nlay == platform_dis.nlay:\n",
    "    print('nlay is equal')\n",
    "else:\n",
    "    print('nlay is not equal')\n",
    "if flopy_dis.nper == platform_dis.nper:\n",
    "    print('nper is equal')\n",
    "else:\n",
    "    print('nper is not equal')\n",
    "if (flopy_dis.laycbd.array == platform_dis.laycbd.array).all():\n",
    "    print('laycbd is equal')\n",
    "else:\n",
    "    print('laycbd is not equal')\n",
    "    print(flopy_dis.laycbd.array)\n",
    "    print(platform_dis.laycbd.array)\n",
    "if (flopy_dis.delr.array == platform_dis.delr.array).all():\n",
    "    print('delr is equal')\n",
    "else:\n",
    "    print('delr is not equal')\n",
    "    print(flopy_dis.delr.array)\n",
    "    print(platform_dis.delr.array)    \n",
    "    \n",
    "if (flopy_dis.delc.array == platform_dis.delc.array).all():\n",
    "    print('delc is equal')\n",
    "else:\n",
    "    print('delc is not equal')\n",
    "    print(flopy_dis.delc.array)\n",
    "    print(platform_dis.delc.array)    \n",
    "    \n",
    "if (flopy_dis.top.array == platform_dis.top.array).all():\n",
    "    print('top is equal')\n",
    "else:\n",
    "    print('top is not equal')\n",
    "    print(flopy_dis.top.array)\n",
    "    print(platform_dis.top.array)\n",
    "    \n",
    "if (flopy_dis.botm.array == platform_dis.botm.array).all():\n",
    "    print('botm is equal')\n",
    "else:\n",
    "    print('botm is not equal')\n",
    "    print(flopy_dis.botm.array)\n",
    "    print(platform_dis.botm.array)\n",
    "    \n",
    "if (flopy_dis.perlen.array == platform_dis.perlen.array).all():\n",
    "    print('perlen is equal')\n",
    "else:\n",
    "    print('perlen is not equal')\n",
    "    print(flopy_dis.perlen.array)\n",
    "    print(platform_dis.perlen.array)\n",
    "    \n",
    "if (flopy_dis.nstp.array == platform_dis.nstp.array).all():\n",
    "    print('nstp is equal')\n",
    "else:\n",
    "    print('nstp is not equal')\n",
    "    print(flopy_dis.nstp.array)\n",
    "    print(platform_dis.nstp.array)\n",
    "    \n",
    "if (flopy_dis.tsmult.array == platform_dis.tsmult.array).all():\n",
    "    print('tsmult is equal')\n",
    "else:\n",
    "    print('tsmult is not equal')\n",
    "    print(flopy_dis.tsmult.array)\n",
    "    print(platform_dis.tsmult.array)\n",
    "    \n",
    "if (flopy_dis.steady.array == platform_dis.steady.array).all():\n",
    "    print('steady is equal')\n",
    "else:\n",
    "    print('steady is not equal')\n",
    "    print(flopy_dis.steady.array)\n",
    "    print(platform_dis.steady.array)\n",
    "    \n",
    "if flopy_dis.itmuni == platform_dis.itmuni:\n",
    "    print('itmuni is equal')\n",
    "else:\n",
    "    print('itmuni is not equal')    \n",
    "    \n",
    "if flopy_dis.lenuni == platform_dis.lenuni:\n",
    "    print('lenuni is equal')\n",
    "else:\n",
    "    print('lenuni is not equal')"
   ],
   "metadata": {
    "collapsed": false,
    "ExecuteTime": {
     "end_time": "2023-08-24T09:13:03.434720Z",
     "start_time": "2023-08-24T09:13:03.419080Z"
    }
   }
  },
  {
   "cell_type": "code",
   "execution_count": 8,
   "outputs": [
    {
     "name": "stdout",
     "output_type": "stream",
     "text": [
      "shead is not equal\n",
      "[[[[450.  nan  nan  nan  nan  nan  nan  nan  nan  nan 445.]\n",
      "   [450.  nan  nan  nan  nan  nan  nan  nan  nan  nan 445.]\n",
      "   [450.  nan  nan  nan  nan  nan  nan  nan  nan  nan 445.]\n",
      "   [450.  nan  nan  nan  nan  nan  nan  nan  nan  nan 445.]\n",
      "   [450.  nan  nan  nan  nan  nan  nan  nan  nan  nan 445.]\n",
      "   [450.  nan  nan  nan  nan  nan  nan  nan  nan  nan 445.]]]]\n",
      "[[[[450.  nan  nan  nan  nan  nan  nan  nan  nan  nan 445.]\n",
      "   [450.  nan  nan  nan  nan  nan  nan  nan  nan  nan 445.]\n",
      "   [450.  nan  nan  nan  nan  nan  nan  nan  nan  nan 445.]\n",
      "   [450.  nan  nan  nan  nan  nan  nan  nan  nan  nan 445.]\n",
      "   [450.  nan  nan  nan  nan  nan  nan  nan  nan  nan 445.]\n",
      "   [450.  nan  nan  nan  nan  nan  nan  nan  nan  nan 445.]]]]\n",
      "ehead is not equal\n",
      "[[[[450.  nan  nan  nan  nan  nan  nan  nan  nan  nan 445.]\n",
      "   [450.  nan  nan  nan  nan  nan  nan  nan  nan  nan 445.]\n",
      "   [450.  nan  nan  nan  nan  nan  nan  nan  nan  nan 445.]\n",
      "   [450.  nan  nan  nan  nan  nan  nan  nan  nan  nan 445.]\n",
      "   [450.  nan  nan  nan  nan  nan  nan  nan  nan  nan 445.]\n",
      "   [450.  nan  nan  nan  nan  nan  nan  nan  nan  nan 445.]]]]\n",
      "[[[[450.  nan  nan  nan  nan  nan  nan  nan  nan  nan 445.]\n",
      "   [450.  nan  nan  nan  nan  nan  nan  nan  nan  nan 445.]\n",
      "   [450.  nan  nan  nan  nan  nan  nan  nan  nan  nan 445.]\n",
      "   [450.  nan  nan  nan  nan  nan  nan  nan  nan  nan 445.]\n",
      "   [450.  nan  nan  nan  nan  nan  nan  nan  nan  nan 445.]\n",
      "   [450.  nan  nan  nan  nan  nan  nan  nan  nan  nan 445.]]]]\n"
     ]
    }
   ],
   "source": [
    "flopy_chd = flopy_model.get_package('CHD')\n",
    "platform_chd = platform_model.get_package('CHD')\n",
    "\n",
    "if (flopy_chd.stress_period_data.array['shead'] == platform_chd.stress_period_data.array['shead']).all():\n",
    "    print('shead is equal')\n",
    "else:\n",
    "    print('shead is not equal')\n",
    "    print(flopy_chd.stress_period_data.array['shead'])\n",
    "    print(platform_chd.stress_period_data.array['shead'])\n",
    "    \n",
    "if (flopy_chd.stress_period_data.array['ehead'] == platform_chd.stress_period_data.array['ehead']).all():\n",
    "    print('ehead is equal')\n",
    "else:\n",
    "    print('ehead is not equal')\n",
    "    print(flopy_chd.stress_period_data.array['ehead'])\n",
    "    print(platform_chd.stress_period_data.array['ehead'])\n"
   ],
   "metadata": {
    "collapsed": false,
    "ExecuteTime": {
     "end_time": "2023-08-24T09:13:03.434909Z",
     "start_time": "2023-08-24T09:13:03.424293Z"
    }
   }
  },
  {
   "cell_type": "code",
   "execution_count": 9,
   "outputs": [
    {
     "name": "stdout",
     "output_type": "stream",
     "text": [
      "nlakes is equal\n",
      "theta is equal\n",
      "nssitr is equal\n",
      "sscncr is equal\n",
      "surfdep is equal\n",
      "stages is equal\n",
      "stage_range is equal\n",
      "lakarr is equal\n",
      "bdlknc is not equal\n",
      "[[[[ 0.  0.  0.  0.  0.  0.  0.  0.  0.  0.  0.]\n",
      "   [ 0.  0.  0.  0.  0.  0.  0.  0.  0.  0.  0.]\n",
      "   [ 0.  0.  0.  0. 10. 10. 10.  0.  0.  0.  0.]\n",
      "   [ 0.  0.  0.  0. 10. 10. 10.  0.  0.  0.  0.]\n",
      "   [ 0.  0.  0.  0.  0.  0.  0.  0.  0.  0.  0.]\n",
      "   [ 0.  0.  0.  0.  0.  0.  0.  0.  0.  0.  0.]]]]\n",
      "[[[[0. 0. 0. 0. 0. 0. 0. 0. 0. 0. 0.]\n",
      "   [0. 0. 0. 0. 0. 0. 0. 0. 0. 0. 0.]\n",
      "   [0. 0. 0. 0. 1. 1. 1. 0. 0. 0. 0.]\n",
      "   [0. 0. 0. 0. 1. 1. 1. 0. 0. 0. 0.]\n",
      "   [0. 0. 0. 0. 0. 0. 0. 0. 0. 0. 0.]\n",
      "   [0. 0. 0. 0. 0. 0. 0. 0. 0. 0. 0.]]]]\n",
      "flux_data is not equal\n",
      "{0: [[0.003, 0.0073, 0.0, 0.0], [0.005, 0.0073, 0.0, 0.0]]}\n",
      "{0: [[0.05, 0.075, 0, 0, 95, 95]], 1: [[0.05, 0.075, 0, 0, 95, 95]], 2: [[0.05, 0.075, 0, 0, 95, 95]]}\n"
     ]
    }
   ],
   "source": [
    "\n",
    "flopy_lak = flopy_model.get_package('LAK')\n",
    "platform_lak = platform_model.get_package('LAK')\n",
    "\n",
    "if flopy_lak.nlakes == platform_lak.nlakes:\n",
    "    print('nlakes is equal')\n",
    "else:\n",
    "    print('nlakes is not equal')\n",
    "    \n",
    "if flopy_lak.theta == platform_lak.theta:\n",
    "    print('theta is equal')\n",
    "else:\n",
    "    print('theta is not equal')\n",
    "    \n",
    "if flopy_lak.nssitr == platform_lak.nssitr:\n",
    "    print('nssitr is equal')\n",
    "else:\n",
    "    print('nssitr is not equal')\n",
    "    \n",
    "if flopy_lak.sscncr == platform_lak.sscncr:\n",
    "    print('sscncr is equal')\n",
    "else:\n",
    "    print('sscncr is not equal')\n",
    "\n",
    "if flopy_lak.surfdep == platform_lak.surfdep:\n",
    "    print('surfdep is equal')\n",
    "else:\n",
    "    print('surfdep is not equal')\n",
    "    print(flopy_lak.surfdep)\n",
    "    print(platform_lak.surfdep)\n",
    "    \n",
    "if (flopy_lak.stages == platform_lak.stages).all():\n",
    "    print('stages is equal')\n",
    "else:\n",
    "    print('stages is not equal')\n",
    "    print(flopy_lak.stages)\n",
    "    print(platform_lak.stages)\n",
    "    \n",
    "if (flopy_lak.stage_range == platform_lak.stage_range).all():\n",
    "    print('stage_range is equal')\n",
    "else:\n",
    "    print('stage_range is not equal')\n",
    "    print(flopy_lak.stage_range)\n",
    "    print(platform_lak.stage_range)\n",
    "    \n",
    "if (flopy_lak.lakarr.array == platform_lak.lakarr.array).all():\n",
    "    print('lakarr is equal')\n",
    "else:\n",
    "    print('lakarr is not equal')\n",
    "    print(flopy_lak.lakarr)\n",
    "    print(platform_lak.lakarr)\n",
    "    \n",
    "if (flopy_lak.bdlknc.array == platform_lak.bdlknc.array).all():\n",
    "    print('bdlknc is equal')\n",
    "else:\n",
    "    print('bdlknc is not equal')\n",
    "    print(flopy_lak.bdlknc.array)\n",
    "    print(platform_lak.bdlknc.array)\n",
    "\n",
    "if flopy_lak.flux_data == platform_lak.flux_data:\n",
    "    print('flux_data is equal')\n",
    "else:\n",
    "    print('flux_data is not equal')\n",
    "    print(flopy_lak.flux_data)\n",
    "    print(platform_lak.flux_data)"
   ],
   "metadata": {
    "collapsed": false,
    "ExecuteTime": {
     "end_time": "2023-08-24T09:13:03.441565Z",
     "start_time": "2023-08-24T09:13:03.433882Z"
    }
   }
  },
  {
   "cell_type": "code",
   "execution_count": 10,
   "outputs": [
    {
     "data": {
      "text/plain": "{0: [[0.003, 0.0073, 0.0, 0.0], [0.005, 0.0073, 0.0, 0.0]]}"
     },
     "execution_count": 10,
     "metadata": {},
     "output_type": "execute_result"
    }
   ],
   "source": [
    "flopy_lak.flux_data"
   ],
   "metadata": {
    "collapsed": false,
    "ExecuteTime": {
     "end_time": "2023-08-24T09:13:03.442283Z",
     "start_time": "2023-08-24T09:13:03.436683Z"
    }
   }
  },
  {
   "cell_type": "code",
   "execution_count": 10,
   "outputs": [],
   "source": [],
   "metadata": {
    "collapsed": false,
    "ExecuteTime": {
     "end_time": "2023-08-24T09:13:03.442787Z",
     "start_time": "2023-08-24T09:13:03.440781Z"
    }
   }
  }
 ],
 "metadata": {
  "kernelspec": {
   "display_name": "Python 3 (ipykernel)",
   "language": "python",
   "name": "python3"
  },
  "language_info": {
   "codemirror_mode": {
    "name": "ipython",
    "version": 3
   },
   "file_extension": ".py",
   "mimetype": "text/x-python",
   "name": "python",
   "nbconvert_exporter": "python",
   "pygments_lexer": "ipython3",
   "version": "3.11.4"
  }
 },
 "nbformat": 4,
 "nbformat_minor": 2
}
