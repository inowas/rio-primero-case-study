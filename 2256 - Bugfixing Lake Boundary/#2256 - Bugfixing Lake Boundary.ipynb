{
 "cells": [
  {
   "cell_type": "markdown",
   "metadata": {},
   "source": [
    "## First we need all necessary imports"
   ]
  },
  {
   "cell_type": "code",
   "execution_count": null,
   "metadata": {},
   "outputs": [],
   "source": [
    "import os\n",
    "import numpy as np\n",
    "import flopy.modflow as mf\n",
    "import shutil\n",
    "import geojson\n",
    "import pyproj"
   ]
  },
  {
   "cell_type": "markdown",
   "metadata": {},
   "source": [
    "* The modflow-files will be stored in './workspace' \n",
    "* Each calculation will delete the files"
   ]
  },
  {
   "cell_type": "code",
   "execution_count": null,
   "metadata": {},
   "outputs": [],
   "source": [
    "workspace = os.path.join('workspace')\n",
    "\n",
    "if os.path.exists(workspace):\n",
    "    shutil.rmtree(workspace)\n",
    "    \n",
    "if not os.path.exists(workspace):\n",
    "    os.makedirs(workspace)\n"
   ]
  },
  {
   "cell_type": "markdown",
   "source": [],
   "metadata": {
    "collapsed": false
   }
  },
  {
   "cell_type": "code",
   "execution_count": null,
   "outputs": [],
   "source": [
    "import json\n",
    "f = open('configuration.json')\n",
    "configuration = json.load(f)\n",
    "f.close()\n",
    "\n",
    "modflow_data = configuration['data']['mf']\n",
    "modflow_package_list = modflow_data['packages']\n",
    "\n",
    "modflow_package_list"
   ],
   "metadata": {
    "collapsed": false
   }
  },
  {
   "cell_type": "code",
   "execution_count": null,
   "metadata": {},
   "outputs": [],
   "source": [
    "from MfPackages import MfAdapter\n",
    "mf_data_obj = modflow_data['mf']\n",
    "mf_data_obj['modelname'] = 'lak_test'\n",
    "mf_data_obj['exe_name'] = '../modflow/mf2005'\n",
    "mf_data_obj['model_ws'] = workspace\n",
    "model = MfAdapter(mf_data_obj).get_package()"
   ]
  },
  {
   "cell_type": "code",
   "execution_count": null,
   "outputs": [],
   "source": [
    "from MfPackages import DisAdapter\n",
    "dis = DisAdapter(modflow_data['dis']).get_package(model)"
   ],
   "metadata": {
    "collapsed": false
   }
  },
  {
   "cell_type": "code",
   "execution_count": null,
   "outputs": [],
   "source": [
    "from MfPackages import BasAdapter\n",
    "bas = BasAdapter(modflow_data['bas']).get_package(model)"
   ],
   "metadata": {
    "collapsed": false
   }
  },
  {
   "cell_type": "code",
   "execution_count": null,
   "outputs": [],
   "source": [
    "from MfPackages import ChdAdapter\n",
    "chd = ChdAdapter(modflow_data['chd']).get_package(model)"
   ],
   "metadata": {
    "collapsed": false
   }
  },
  {
   "cell_type": "code",
   "execution_count": null,
   "outputs": [],
   "source": [
    "from MfPackages import LakAdapter\n",
    "lak = LakAdapter(modflow_data['lak']).get_package(model)"
   ],
   "metadata": {
    "collapsed": false
   }
  },
  {
   "cell_type": "code",
   "execution_count": null,
   "outputs": [],
   "source": [
    "from MfPackages import LpfAdapter\n",
    "lpf = LpfAdapter(modflow_data['lpf']).get_package(model)"
   ],
   "metadata": {
    "collapsed": false
   }
  },
  {
   "cell_type": "code",
   "execution_count": null,
   "outputs": [],
   "source": [
    "from MfPackages import PcgAdapter\n",
    "pcg = PcgAdapter(modflow_data['pcg']).get_package(model)"
   ],
   "metadata": {
    "collapsed": false
   }
  },
  {
   "cell_type": "code",
   "execution_count": null,
   "outputs": [],
   "source": [
    "from MfPackages import OcAdapter\n",
    "oc = OcAdapter(modflow_data['oc']).get_package(model)"
   ],
   "metadata": {
    "collapsed": false
   }
  },
  {
   "cell_type": "markdown",
   "metadata": {},
   "source": [
    "### Calculate the model"
   ]
  },
  {
   "cell_type": "code",
   "execution_count": null,
   "metadata": {},
   "outputs": [],
   "source": [
    "model.write_input()\n",
    "model.run_model()"
   ]
  },
  {
   "cell_type": "markdown",
   "metadata": {},
   "source": [
    "### Read calculated data"
   ]
  },
  {
   "cell_type": "code",
   "execution_count": null,
   "metadata": {},
   "outputs": [],
   "source": [
    "import flopy.utils as fu\n",
    "\n",
    "hds = fu.HeadFile(os.path.join(workspace, 'lak_test.hds'))\n",
    "h = hds.get_data(kstpkper=(0,0))\n",
    "h"
   ]
  }
 ],
 "metadata": {
  "kernelspec": {
   "display_name": "Python 3 (ipykernel)",
   "language": "python",
   "name": "python3"
  },
  "language_info": {
   "codemirror_mode": {
    "name": "ipython",
    "version": 3
   },
   "file_extension": ".py",
   "mimetype": "text/x-python",
   "name": "python",
   "nbconvert_exporter": "python",
   "pygments_lexer": "ipython3",
   "version": "3.11.4"
  }
 },
 "nbformat": 4,
 "nbformat_minor": 2
}
