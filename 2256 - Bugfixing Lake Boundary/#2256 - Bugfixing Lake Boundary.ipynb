{
 "cells": [
  {
   "cell_type": "markdown",
   "metadata": {},
   "source": [
    "## First we need all necessary imports"
   ]
  },
  {
   "cell_type": "code",
   "execution_count": 1,
   "metadata": {
    "ExecuteTime": {
     "end_time": "2023-08-18T07:29:33.105492Z",
     "start_time": "2023-08-18T07:29:32.667944Z"
    }
   },
   "outputs": [],
   "source": [
    "import os\n",
    "import numpy as np\n",
    "import flopy.modflow as mf\n",
    "import shutil\n",
    "import geojson\n",
    "import pyproj"
   ]
  },
  {
   "cell_type": "markdown",
   "metadata": {},
   "source": [
    "* The modflow-files will be stored in './workspace' \n",
    "* Each calculation will delete the files"
   ]
  },
  {
   "cell_type": "code",
   "execution_count": 2,
   "metadata": {
    "ExecuteTime": {
     "end_time": "2023-08-18T07:29:33.109773Z",
     "start_time": "2023-08-18T07:29:33.106246Z"
    }
   },
   "outputs": [],
   "source": [
    "workspace = os.path.join('workspace')\n",
    "\n",
    "if os.path.exists(workspace):\n",
    "    shutil.rmtree(workspace)\n",
    "    \n",
    "if not os.path.exists(workspace):\n",
    "    os.makedirs(workspace)\n"
   ]
  },
  {
   "cell_type": "markdown",
   "source": [],
   "metadata": {
    "collapsed": false
   }
  },
  {
   "cell_type": "code",
   "execution_count": 3,
   "outputs": [
    {
     "data": {
      "text/plain": "['mf', 'bas', 'dis', 'lpf', 'pcg', 'oc', 'chd', 'lak']"
     },
     "execution_count": 3,
     "metadata": {},
     "output_type": "execute_result"
    }
   ],
   "source": [
    "import json\n",
    "f = open('configuration.json')\n",
    "configuration = json.load(f)\n",
    "f.close()\n",
    "\n",
    "modflow_data = configuration['data']['mf']\n",
    "modflow_package_list = modflow_data['packages']\n",
    "\n",
    "modflow_package_list"
   ],
   "metadata": {
    "collapsed": false,
    "ExecuteTime": {
     "end_time": "2023-08-18T07:29:33.117332Z",
     "start_time": "2023-08-18T07:29:33.110208Z"
    }
   }
  },
  {
   "cell_type": "code",
   "execution_count": 4,
   "metadata": {
    "ExecuteTime": {
     "end_time": "2023-08-18T07:29:33.121820Z",
     "start_time": "2023-08-18T07:29:33.115888Z"
    }
   },
   "outputs": [],
   "source": [
    "from MfPackages import MfAdapter\n",
    "mf_data_obj = modflow_data['mf']\n",
    "mf_data_obj['modelname'] = 'lak_test'\n",
    "mf_data_obj['exe_name'] = '../modflow/mf2005'\n",
    "mf_data_obj['model_ws'] = workspace\n",
    "mfAdapter = MfAdapter(mf_data_obj)\n",
    "mfAdapter.merge()\n",
    "model = mfAdapter.get_package()"
   ]
  },
  {
   "cell_type": "code",
   "execution_count": 5,
   "outputs": [
    {
     "data": {
      "text/plain": "\n    MODFLOW Discretization Package Class.\n\n    Parameters\n    ----------\n    model : model object\n        The model object (of type :class:`flopy.modflow.Modflow`) to which\n        this package will be added.\n    nlay : int\n        Number of model layers (the default is 1).\n    nrow : int\n        Number of model rows (the default is 2).\n    ncol : int\n        Number of model columns (the default is 2).\n    nper : int\n        Number of model stress periods (the default is 1).\n    delr : float or array of floats (ncol), optional\n        An array of spacings along a row (the default is 1.0).\n    delc : float or array of floats (nrow), optional\n        An array of spacings along a column (the default is 0.0).\n    laycbd : int or array of ints (nlay), optional\n        An array of flags indicating whether or not a layer has a Quasi-3D\n        confining bed below it. 0 indicates no confining bed, and not zero\n        indicates a confining bed. LAYCBD for the bottom layer must be 0. (the\n        default is 0)\n    top : float or array of floats (nrow, ncol), optional\n        An array of the top elevation of layer 1. For the common situation in\n        which the top layer represents a water-table aquifer, it may be\n        reasonable to set Top equal to land-surface elevation (the default is\n        1.0)\n    botm : float or array of floats (nlay, nrow, ncol), optional\n        An array of the bottom elevation for each model cell (the default is\n        0.)\n    perlen : float or array of floats (nper)\n        An array of the stress period lengths.\n    nstp : int or array of ints (nper)\n        Number of time steps in each stress period (default is 1).\n    tsmult : float or array of floats (nper)\n        Time step multiplier (default is 1.0).\n    steady : bool or array of bool (nper)\n        true or False indicating whether or not stress period is steady state\n        (default is True).\n    itmuni : int\n        Time units, default is days (4)\n    lenuni : int\n        Length units, default is meters (2)\n    extension : string\n        Filename extension (default is 'dis')\n    unitnumber : int\n        File unit number (default is None).\n    filenames : str or list of str\n        Filenames to use for the package. If filenames=None the package name\n        will be created using the model name and package extension. If a\n        single string is passed the package will be set to the string.\n        Default is None.\n    xul : float\n        x coordinate of upper left corner of the grid, default is None, which\n        means xul will be set to zero.\n    yul : float\n        y coordinate of upper-left corner of the grid, default is None, which\n        means yul will be calculated as the sum of the delc array.  This\n        default, combined with the xul and rotation defaults will place the\n        lower-left corner of the grid at (0, 0).\n    rotation : float\n        counter-clockwise rotation (in degrees) of the grid about the lower-\n        left corner. default is 0.0\n    crs : pyproj.CRS, optional if `prjfile` is specified\n        Coordinate reference system (CRS) for the model grid\n        (must be projected; geographic CRS are not supported).\n        The value can be anything accepted by\n        :meth:`pyproj.CRS.from_user_input() <pyproj.crs.CRS.from_user_input>`,\n        such as an authority string (eg \"EPSG:26916\") or a WKT string.\n    prjfile : str or pathlike, optional if `crs` is specified\n        ESRI-style projection file with well-known text defining the CRS\n        for the model grid (must be projected; geographic CRS are not supported).\n    start_datetime : str\n        starting datetime of the simulation. default is '1/1/1970'\n\n    Attributes\n    ----------\n    heading : str\n        Text string written to top of package input file.\n\n    Methods\n    -------\n\n    See Also\n    --------\n\n    Notes\n    -----\n\n    Examples\n    --------\n\n    >>> import flopy\n    >>> m = flopy.modflow.Modflow()\n    >>> dis = flopy.modflow.ModflowDis(m)\n\n     _name = DIS\n _parent = MODFLOW 1 layer(s) 6 row(s) 11 column(s) 3 stress period(s) ('flopy.modflow.mf.Modflow)\n _totim = None ('NoneType)\n acceptable_dtypes (list, items = 3)\n allowDuplicates = False ('bool)\n botm = <flopy.utils.util_array.Util3d object at 0x1262b10a0> ('flopy.utils.util_array.Util3d)\n delc = <flopy.utils.util_array.Util2d object at 0x1074105e0> ('flopy.utils.util_array.Util2d)\n delr = <flopy.utils.util_array.Util2d object at 0x107410190> ('flopy.utils.util_array.Util2d)\n file_name = lak_test.dis\n fn_path = /Users/ralf/Projects/inowas/jupyter-notebooks/rio-primero-case-study/2256 - Bugfixing Lake Boundary/workspace/lak_test.dis ('str)\n itmuni = 4 ('int)\n itmuni_dict = {0: 'undefined', 1: 'seconds', 2: 'minutes', 3: 'hours', 4: 'days', 5: 'years'} ('dict)\n laycbd = <flopy.utils.util_array.Util2d object at 0x107410d30> ('flopy.utils.util_array.Util2d)\n lenuni = 2 ('int)\n ncol = 11 ('int)\n nlay = 1 ('int)\n nper = 3 ('int)\n nrow = 6 ('int)\n nstp = <flopy.utils.util_array.Util2d object at 0x1262b1190> ('flopy.utils.util_array.Util2d)\n perlen = <flopy.utils.util_array.Util2d object at 0x1262b10d0> ('flopy.utils.util_array.Util2d)\n start_datetime = 2000-01-01 ('str)\n steady = <flopy.utils.util_array.Util2d object at 0x1262b12e0> ('flopy.utils.util_array.Util2d)\n top = <flopy.utils.util_array.Util2d object at 0x1074102b0> ('flopy.utils.util_array.Util2d)\n tr = <flopy.utils.reference.TemporalReference object at 0x125bcbee0> ('flopy.utils.reference.TemporalReference)\n tsmult = <flopy.utils.util_array.Util2d object at 0x1262b1250> ('flopy.utils.util_array.Util2d)\n unit_number = 11"
     },
     "execution_count": 5,
     "metadata": {},
     "output_type": "execute_result"
    }
   ],
   "source": [
    "from MfPackages import DisAdapter\n",
    "disAdapter = DisAdapter(modflow_data['dis'])\n",
    "disAdapter.merge()\n",
    "dis = disAdapter.get_package(model)\n",
    "dis"
   ],
   "metadata": {
    "collapsed": false,
    "ExecuteTime": {
     "end_time": "2023-08-18T07:29:33.145461Z",
     "start_time": "2023-08-18T07:29:33.123700Z"
    }
   }
  },
  {
   "cell_type": "code",
   "execution_count": 6,
   "outputs": [],
   "source": [
    "from MfPackages import BasAdapter\n",
    "basAdapter = BasAdapter(modflow_data['bas'])\n",
    "basAdapter.merge()\n",
    "bas = basAdapter.get_package(model)"
   ],
   "metadata": {
    "collapsed": false,
    "ExecuteTime": {
     "end_time": "2023-08-18T07:29:33.145821Z",
     "start_time": "2023-08-18T07:29:33.127898Z"
    }
   }
  },
  {
   "cell_type": "code",
   "execution_count": 7,
   "outputs": [],
   "source": [
    "from MfPackages import ChdAdapter\n",
    "chdAdapter = ChdAdapter(modflow_data['chd'])\n",
    "chdAdapter.merge()\n",
    "chd = chdAdapter.get_package(model)"
   ],
   "metadata": {
    "collapsed": false,
    "ExecuteTime": {
     "end_time": "2023-08-18T07:29:33.151173Z",
     "start_time": "2023-08-18T07:29:33.130483Z"
    }
   }
  },
  {
   "cell_type": "code",
   "execution_count": 8,
   "outputs": [],
   "source": [
    "from MfPackages import LakAdapter\n",
    "lakAdapter = LakAdapter(modflow_data['lak'])\n",
    "lakAdapter.merge()\n",
    "lak = lakAdapter.get_package(model)"
   ],
   "metadata": {
    "collapsed": false,
    "ExecuteTime": {
     "end_time": "2023-08-18T07:29:33.151475Z",
     "start_time": "2023-08-18T07:29:33.133320Z"
    }
   }
  },
  {
   "cell_type": "code",
   "execution_count": 9,
   "outputs": [],
   "source": [
    "from MfPackages import LpfAdapter\n",
    "lpfAdapter = LpfAdapter(modflow_data['lpf'])\n",
    "lpfAdapter.merge()\n",
    "lpf = lpfAdapter.get_package(model)"
   ],
   "metadata": {
    "collapsed": false,
    "ExecuteTime": {
     "end_time": "2023-08-18T07:29:33.151761Z",
     "start_time": "2023-08-18T07:29:33.135261Z"
    }
   }
  },
  {
   "cell_type": "code",
   "execution_count": 10,
   "outputs": [],
   "source": [
    "from MfPackages import PcgAdapter\n",
    "pcgAdapter = PcgAdapter(modflow_data['pcg'])\n",
    "pcgAdapter.merge()\n",
    "pcg = pcgAdapter.get_package(model)"
   ],
   "metadata": {
    "collapsed": false,
    "ExecuteTime": {
     "end_time": "2023-08-18T07:29:33.151821Z",
     "start_time": "2023-08-18T07:29:33.139064Z"
    }
   }
  },
  {
   "cell_type": "code",
   "execution_count": 11,
   "outputs": [],
   "source": [
    "from MfPackages import OcAdapter\n",
    "ocAdapter = OcAdapter(modflow_data['oc'])\n",
    "ocAdapter.merge()\n",
    "oc = ocAdapter.get_package(model)"
   ],
   "metadata": {
    "collapsed": false,
    "ExecuteTime": {
     "end_time": "2023-08-18T07:29:33.151858Z",
     "start_time": "2023-08-18T07:29:33.141555Z"
    }
   }
  },
  {
   "cell_type": "markdown",
   "metadata": {},
   "source": [
    "### Calculate the model"
   ]
  },
  {
   "cell_type": "code",
   "execution_count": 12,
   "metadata": {
    "ExecuteTime": {
     "end_time": "2023-08-18T07:29:33.159131Z",
     "start_time": "2023-08-18T07:29:33.143517Z"
    }
   },
   "outputs": [
    {
     "name": "stdout",
     "output_type": "stream",
     "text": [
      "FloPy is using the following executable to run the model: ../../modflow/mf2005\n",
      "\n",
      "                                  MODFLOW-2005     \n",
      "    U.S. GEOLOGICAL SURVEY MODULAR FINITE-DIFFERENCE GROUND-WATER FLOW MODEL\n",
      "                             Version 1.12.00 2/3/2017                        \n",
      "\n",
      " Using NAME file: lak_test.nam \n",
      " Run start date and time (yyyy/mm/dd hh:mm:ss): 2023/08/18  9:29:33\n",
      "\n",
      " Solving:  Stress period:     1    Time step:     1    Ground-Water Flow Eqn.\n",
      " Solving:  Stress period:     2    Time step:     1    Ground-Water Flow Eqn.\n",
      " Solving:  Stress period:     3    Time step:     1    Ground-Water Flow Eqn.\n",
      " Run end date and time (yyyy/mm/dd hh:mm:ss): 2023/08/18  9:29:33\n",
      " Elapsed run time:  0.002 Seconds\n",
      "\n",
      "  Normal termination of simulation\n"
     ]
    },
    {
     "data": {
      "text/plain": "(True, [])"
     },
     "execution_count": 12,
     "metadata": {},
     "output_type": "execute_result"
    }
   ],
   "source": [
    "model.write_input()\n",
    "model.run_model()"
   ]
  },
  {
   "cell_type": "markdown",
   "metadata": {},
   "source": [
    "### Read calculated data"
   ]
  },
  {
   "cell_type": "code",
   "execution_count": 15,
   "metadata": {
    "ExecuteTime": {
     "end_time": "2023-08-18T07:29:45.614945Z",
     "start_time": "2023-08-18T07:29:45.595965Z"
    }
   },
   "outputs": [
    {
     "data": {
      "text/plain": "array([[[ 100.      ,   99.11863 ,   98.20165 ,   97.21149 ,\n           96.12289 ,   94.99999 ,   93.87709 ,   92.78849 ,\n           91.798325,   90.88136 ,   90.      ],\n        [ 100.      ,   99.201004,   98.371086,   97.43926 ,\n           96.202415,   94.99999 ,   93.79757 ,   92.560715,\n           91.6289  ,   90.79899 ,   90.      ],\n        [ 100.      ,   99.35492 ,   98.77635 ,   98.37291 ,\n         -999.99    , -999.99    , -999.99    ,   91.627075,\n           91.22363 ,   90.64507 ,   90.      ],\n        [ 100.      ,   99.35492 ,   98.77635 ,   98.37291 ,\n         -999.99    , -999.99    , -999.99    ,   91.627075,\n           91.22363 ,   90.64507 ,   90.      ],\n        [ 100.      ,   99.201004,   98.371086,   97.43926 ,\n           96.202415,   94.99999 ,   93.79757 ,   92.560715,\n           91.6289  ,   90.79899 ,   90.      ],\n        [ 100.      ,   99.11863 ,   98.20165 ,   97.21149 ,\n           96.12289 ,   94.99999 ,   93.87709 ,   92.78849 ,\n           91.798325,   90.88136 ,   90.      ]]], dtype=float32)"
     },
     "execution_count": 15,
     "metadata": {},
     "output_type": "execute_result"
    }
   ],
   "source": [
    "import flopy.utils as fu\n",
    "\n",
    "hds = fu.HeadFile(os.path.join(workspace, 'lak_test.hds'))\n",
    "h = hds.get_data(kstpkper=(0,0))\n",
    "h"
   ]
  }
 ],
 "metadata": {
  "kernelspec": {
   "display_name": "Python 3 (ipykernel)",
   "language": "python",
   "name": "python3"
  },
  "language_info": {
   "codemirror_mode": {
    "name": "ipython",
    "version": 3
   },
   "file_extension": ".py",
   "mimetype": "text/x-python",
   "name": "python",
   "nbconvert_exporter": "python",
   "pygments_lexer": "ipython3",
   "version": "3.11.4"
  }
 },
 "nbformat": 4,
 "nbformat_minor": 2
}
