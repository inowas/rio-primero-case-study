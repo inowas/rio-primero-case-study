{
 "cells": [
  {
   "cell_type": "markdown",
   "metadata": {},
   "source": [
    "## First we need all necessary imports"
   ]
  },
  {
   "cell_type": "code",
   "execution_count": 1,
   "metadata": {
    "ExecuteTime": {
     "end_time": "2023-08-24T09:53:33.983158Z",
     "start_time": "2023-08-24T09:53:33.264662Z"
    }
   },
   "outputs": [],
   "source": [
    "import os\n",
    "import numpy as np\n",
    "import flopy.modflow as mf\n",
    "import shutil\n",
    "import geojson\n",
    "import pyproj"
   ]
  },
  {
   "cell_type": "markdown",
   "metadata": {},
   "source": [
    "* The modflow-files will be stored in './workspace' \n",
    "* Each calculation will delete the files"
   ]
  },
  {
   "cell_type": "code",
   "execution_count": 2,
   "metadata": {
    "ExecuteTime": {
     "end_time": "2023-08-24T09:53:33.990983Z",
     "start_time": "2023-08-24T09:53:33.987597Z"
    }
   },
   "outputs": [],
   "source": [
    "workspace = os.path.join('workspace')\n",
    "\n",
    "if os.path.exists(workspace):\n",
    "    shutil.rmtree(workspace)\n",
    "    \n",
    "if not os.path.exists(workspace):\n",
    "    os.makedirs(workspace)\n"
   ]
  },
  {
   "cell_type": "markdown",
   "source": [],
   "metadata": {
    "collapsed": false
   }
  },
  {
   "cell_type": "code",
   "execution_count": 3,
   "outputs": [
    {
     "data": {
      "text/plain": "['mf', 'bas', 'dis', 'lpf', 'pcg', 'oc', 'chd', 'lak']"
     },
     "execution_count": 3,
     "metadata": {},
     "output_type": "execute_result"
    }
   ],
   "source": [
    "import json\n",
    "f = open('configuration.json')\n",
    "configuration = json.load(f)\n",
    "f.close()\n",
    "\n",
    "modflow_data = configuration['data']['mf']\n",
    "modflow_package_list = modflow_data['packages']\n",
    "\n",
    "modflow_package_list"
   ],
   "metadata": {
    "collapsed": false,
    "ExecuteTime": {
     "end_time": "2023-08-24T09:53:33.999445Z",
     "start_time": "2023-08-24T09:53:33.991706Z"
    }
   }
  },
  {
   "cell_type": "code",
   "execution_count": 4,
   "metadata": {
    "ExecuteTime": {
     "end_time": "2023-08-24T09:53:34.023804Z",
     "start_time": "2023-08-24T09:53:33.999981Z"
    }
   },
   "outputs": [],
   "source": [
    "from MfPackages import MfAdapter\n",
    "mf_data_obj = modflow_data['mf']\n",
    "mf_data_obj['modelname'] = 'lak_test'\n",
    "mf_data_obj['exe_name'] = '../modflow/mf2005'\n",
    "mf_data_obj['model_ws'] = workspace\n",
    "model = MfAdapter(mf_data_obj).get_package()"
   ]
  },
  {
   "cell_type": "code",
   "execution_count": 5,
   "outputs": [],
   "source": [
    "from MfPackages import DisAdapter\n",
    "dis = DisAdapter(modflow_data['dis']).get_package(model)"
   ],
   "metadata": {
    "collapsed": false,
    "ExecuteTime": {
     "end_time": "2023-08-24T09:53:34.028051Z",
     "start_time": "2023-08-24T09:53:34.011814Z"
    }
   }
  },
  {
   "cell_type": "code",
   "execution_count": 6,
   "outputs": [],
   "source": [
    "from MfPackages import BasAdapter\n",
    "bas = BasAdapter(modflow_data['bas']).get_package(model)"
   ],
   "metadata": {
    "collapsed": false,
    "ExecuteTime": {
     "end_time": "2023-08-24T09:53:34.028201Z",
     "start_time": "2023-08-24T09:53:34.016199Z"
    }
   }
  },
  {
   "cell_type": "code",
   "execution_count": 7,
   "outputs": [],
   "source": [
    "from MfPackages import ChdAdapter\n",
    "chd = ChdAdapter(modflow_data['chd']).get_package(model)"
   ],
   "metadata": {
    "collapsed": false,
    "ExecuteTime": {
     "end_time": "2023-08-24T09:53:34.028265Z",
     "start_time": "2023-08-24T09:53:34.019475Z"
    }
   }
  },
  {
   "cell_type": "code",
   "execution_count": 8,
   "outputs": [],
   "source": [
    "from MfPackages import LakAdapter\n",
    "lak = LakAdapter(modflow_data['lak']).get_package(model)"
   ],
   "metadata": {
    "collapsed": false,
    "ExecuteTime": {
     "end_time": "2023-08-24T09:53:34.028784Z",
     "start_time": "2023-08-24T09:53:34.023048Z"
    }
   }
  },
  {
   "cell_type": "code",
   "execution_count": 9,
   "outputs": [],
   "source": [
    "from MfPackages import LpfAdapter\n",
    "lpf = LpfAdapter(modflow_data['lpf']).get_package(model)"
   ],
   "metadata": {
    "collapsed": false,
    "ExecuteTime": {
     "end_time": "2023-08-24T09:53:34.033777Z",
     "start_time": "2023-08-24T09:53:34.027570Z"
    }
   }
  },
  {
   "cell_type": "code",
   "execution_count": 10,
   "outputs": [],
   "source": [
    "from MfPackages import PcgAdapter\n",
    "pcg = PcgAdapter(modflow_data['pcg']).get_package(model)"
   ],
   "metadata": {
    "collapsed": false,
    "ExecuteTime": {
     "end_time": "2023-08-24T09:53:34.038226Z",
     "start_time": "2023-08-24T09:53:34.034745Z"
    }
   }
  },
  {
   "cell_type": "code",
   "execution_count": 11,
   "outputs": [],
   "source": [
    "from MfPackages import OcAdapter\n",
    "oc = OcAdapter(modflow_data['oc']).get_package(model)"
   ],
   "metadata": {
    "collapsed": false,
    "ExecuteTime": {
     "end_time": "2023-08-24T09:53:34.042059Z",
     "start_time": "2023-08-24T09:53:34.039135Z"
    }
   }
  },
  {
   "cell_type": "markdown",
   "metadata": {},
   "source": [
    "### Calculate the model"
   ]
  },
  {
   "cell_type": "code",
   "execution_count": 12,
   "metadata": {
    "ExecuteTime": {
     "end_time": "2023-08-24T09:53:34.069507Z",
     "start_time": "2023-08-24T09:53:34.043757Z"
    }
   },
   "outputs": [
    {
     "name": "stdout",
     "output_type": "stream",
     "text": [
      "FloPy is using the following executable to run the model: ../../modflow/mf2005\n",
      "\n",
      "                                  MODFLOW-2005     \n",
      "    U.S. GEOLOGICAL SURVEY MODULAR FINITE-DIFFERENCE GROUND-WATER FLOW MODEL\n",
      "                             Version 1.12.00 2/3/2017                        \n",
      "\n",
      " Using NAME file: lak_test.nam \n",
      " Run start date and time (yyyy/mm/dd hh:mm:ss): 2023/08/24 11:53:34\n",
      "\n",
      " Solving:  Stress period:     1    Time step:     1    Ground-Water Flow Eqn.\n",
      " Run end date and time (yyyy/mm/dd hh:mm:ss): 2023/08/24 11:53:34\n",
      " Elapsed run time:  0.002 Seconds\n",
      "\n",
      "  Normal termination of simulation\n"
     ]
    },
    {
     "data": {
      "text/plain": "(True, [])"
     },
     "execution_count": 12,
     "metadata": {},
     "output_type": "execute_result"
    }
   ],
   "source": [
    "model.write_input()\n",
    "model.run_model()"
   ]
  },
  {
   "cell_type": "markdown",
   "metadata": {},
   "source": [
    "### Read calculated data"
   ]
  },
  {
   "cell_type": "code",
   "execution_count": 13,
   "metadata": {
    "ExecuteTime": {
     "end_time": "2023-08-24T09:53:34.069654Z",
     "start_time": "2023-08-24T09:53:34.062284Z"
    }
   },
   "outputs": [
    {
     "data": {
      "text/plain": "array([[[450.     , 449.55933, 449.10083, 448.60574, 448.06143,\n         447.5    , 446.93854, 446.39426, 445.89917, 445.44067,\n         445.     ],\n        [450.     , 449.6005 , 449.18555, 448.71964, 448.1012 ,\n         447.5    , 446.89877, 446.28036, 445.81445, 445.3995 ,\n         445.     ],\n        [450.     , 449.67746, 449.38818, 449.18646, 449.     ,\n         449.     , 449.     , 445.81354, 445.61182, 445.32254,\n         445.     ],\n        [450.     , 449.67746, 449.38818, 449.18646, 449.     ,\n         449.     , 449.     , 445.81354, 445.61182, 445.32254,\n         445.     ],\n        [450.     , 449.6005 , 449.18555, 448.71964, 448.1012 ,\n         447.5    , 446.89877, 446.28036, 445.81445, 445.3995 ,\n         445.     ],\n        [450.     , 449.55933, 449.10083, 448.60574, 448.06143,\n         447.5    , 446.93854, 446.39426, 445.89917, 445.44067,\n         445.     ]]], dtype=float32)"
     },
     "execution_count": 13,
     "metadata": {},
     "output_type": "execute_result"
    }
   ],
   "source": [
    "import flopy.utils as fu\n",
    "\n",
    "hds = fu.HeadFile(os.path.join(workspace, 'lak_test.hds'))\n",
    "h = hds.get_data(kstpkper=(0,0))\n",
    "h"
   ]
  }
 ],
 "metadata": {
  "kernelspec": {
   "display_name": "Python 3 (ipykernel)",
   "language": "python",
   "name": "python3"
  },
  "language_info": {
   "codemirror_mode": {
    "name": "ipython",
    "version": 3
   },
   "file_extension": ".py",
   "mimetype": "text/x-python",
   "name": "python",
   "nbconvert_exporter": "python",
   "pygments_lexer": "ipython3",
   "version": "3.11.4"
  }
 },
 "nbformat": 4,
 "nbformat_minor": 2
}
