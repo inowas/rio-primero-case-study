{
 "cells": [
  {
   "cell_type": "markdown",
   "metadata": {},
   "source": [
    "## First we need all necessary imports"
   ]
  },
  {
   "cell_type": "code",
   "execution_count": 1,
   "metadata": {
    "ExecuteTime": {
     "end_time": "2023-08-18T07:32:24.960035Z",
     "start_time": "2023-08-18T07:32:24.464169Z"
    }
   },
   "outputs": [],
   "source": [
    "import os\n",
    "import numpy as np\n",
    "import flopy.modflow as mf\n",
    "import shutil\n",
    "import geojson\n",
    "import pyproj"
   ]
  },
  {
   "cell_type": "markdown",
   "metadata": {},
   "source": [
    "* The modflow-files will be stored in './workspace' \n",
    "* Each calculation will delete the files"
   ]
  },
  {
   "cell_type": "code",
   "execution_count": 2,
   "metadata": {
    "ExecuteTime": {
     "end_time": "2023-08-18T07:32:24.960369Z",
     "start_time": "2023-08-18T07:32:24.949369Z"
    }
   },
   "outputs": [],
   "source": [
    "workspace = os.path.join('workspace')\n",
    "\n",
    "if os.path.exists(workspace):\n",
    "    shutil.rmtree(workspace)\n",
    "    \n",
    "if not os.path.exists(workspace):\n",
    "    os.makedirs(workspace)\n"
   ]
  },
  {
   "cell_type": "markdown",
   "source": [],
   "metadata": {
    "collapsed": false
   }
  },
  {
   "cell_type": "code",
   "execution_count": 3,
   "outputs": [
    {
     "data": {
      "text/plain": "['mf', 'bas', 'dis', 'lpf', 'pcg', 'oc', 'chd', 'lak']"
     },
     "execution_count": 3,
     "metadata": {},
     "output_type": "execute_result"
    }
   ],
   "source": [
    "import json\n",
    "f = open('configuration.json')\n",
    "configuration = json.load(f)\n",
    "f.close()\n",
    "\n",
    "modflow_data = configuration['data']['mf']\n",
    "modflow_package_list = modflow_data['packages']\n",
    "\n",
    "modflow_package_list"
   ],
   "metadata": {
    "collapsed": false,
    "ExecuteTime": {
     "end_time": "2023-08-18T07:32:24.966667Z",
     "start_time": "2023-08-18T07:32:24.958558Z"
    }
   }
  },
  {
   "cell_type": "code",
   "execution_count": 4,
   "metadata": {
    "ExecuteTime": {
     "end_time": "2023-08-18T07:32:24.975334Z",
     "start_time": "2023-08-18T07:32:24.967989Z"
    }
   },
   "outputs": [],
   "source": [
    "from MfPackages import MfAdapter\n",
    "mf_data_obj = modflow_data['mf']\n",
    "mf_data_obj['modelname'] = 'lak_test'\n",
    "mf_data_obj['exe_name'] = '../modflow/mf2005'\n",
    "mf_data_obj['model_ws'] = workspace\n",
    "mfAdapter = MfAdapter(mf_data_obj)\n",
    "mfAdapter.merge()\n",
    "model = mfAdapter.get_package()"
   ]
  },
  {
   "cell_type": "code",
   "execution_count": 5,
   "outputs": [],
   "source": [
    "from MfPackages import DisAdapter\n",
    "disAdapter = DisAdapter(modflow_data['dis'])\n",
    "disAdapter.merge()\n",
    "dis = disAdapter.get_package(model)"
   ],
   "metadata": {
    "collapsed": false,
    "ExecuteTime": {
     "end_time": "2023-08-18T07:32:25.002086Z",
     "start_time": "2023-08-18T07:32:24.977014Z"
    }
   }
  },
  {
   "cell_type": "code",
   "execution_count": 6,
   "outputs": [],
   "source": [
    "from MfPackages import BasAdapter\n",
    "basAdapter = BasAdapter(modflow_data['bas'])\n",
    "basAdapter.merge()\n",
    "bas = basAdapter.get_package(model)"
   ],
   "metadata": {
    "collapsed": false,
    "ExecuteTime": {
     "end_time": "2023-08-18T07:32:25.008129Z",
     "start_time": "2023-08-18T07:32:24.983761Z"
    }
   }
  },
  {
   "cell_type": "code",
   "execution_count": 7,
   "outputs": [],
   "source": [
    "from MfPackages import ChdAdapter\n",
    "chdAdapter = ChdAdapter(modflow_data['chd'])\n",
    "chdAdapter.merge()\n",
    "chd = chdAdapter.get_package(model)"
   ],
   "metadata": {
    "collapsed": false,
    "ExecuteTime": {
     "end_time": "2023-08-18T07:32:25.008618Z",
     "start_time": "2023-08-18T07:32:24.991609Z"
    }
   }
  },
  {
   "cell_type": "code",
   "execution_count": 8,
   "outputs": [],
   "source": [
    "from MfPackages import LakAdapter\n",
    "lakAdapter = LakAdapter(modflow_data['lak'])\n",
    "lakAdapter.merge()\n",
    "lak = lakAdapter.get_package(model)"
   ],
   "metadata": {
    "collapsed": false,
    "ExecuteTime": {
     "end_time": "2023-08-18T07:32:25.008674Z",
     "start_time": "2023-08-18T07:32:24.996630Z"
    }
   }
  },
  {
   "cell_type": "code",
   "execution_count": 9,
   "outputs": [],
   "source": [
    "from MfPackages import LpfAdapter\n",
    "lpfAdapter = LpfAdapter(modflow_data['lpf'])\n",
    "lpfAdapter.merge()\n",
    "lpf = lpfAdapter.get_package(model)"
   ],
   "metadata": {
    "collapsed": false,
    "ExecuteTime": {
     "end_time": "2023-08-18T07:32:25.009122Z",
     "start_time": "2023-08-18T07:32:25.001179Z"
    }
   }
  },
  {
   "cell_type": "code",
   "execution_count": 10,
   "outputs": [],
   "source": [
    "from MfPackages import PcgAdapter\n",
    "pcgAdapter = PcgAdapter(modflow_data['pcg'])\n",
    "pcgAdapter.merge()\n",
    "pcg = pcgAdapter.get_package(model)"
   ],
   "metadata": {
    "collapsed": false,
    "ExecuteTime": {
     "end_time": "2023-08-18T07:32:25.010408Z",
     "start_time": "2023-08-18T07:32:25.004991Z"
    }
   }
  },
  {
   "cell_type": "code",
   "execution_count": 11,
   "outputs": [],
   "source": [
    "from MfPackages import OcAdapter\n",
    "ocAdapter = OcAdapter(modflow_data['oc'])\n",
    "ocAdapter.merge()\n",
    "oc = ocAdapter.get_package(model)"
   ],
   "metadata": {
    "collapsed": false,
    "ExecuteTime": {
     "end_time": "2023-08-18T07:32:25.019717Z",
     "start_time": "2023-08-18T07:32:25.015210Z"
    }
   }
  },
  {
   "cell_type": "markdown",
   "metadata": {},
   "source": [
    "### Calculate the model"
   ]
  },
  {
   "cell_type": "code",
   "execution_count": 12,
   "metadata": {
    "ExecuteTime": {
     "end_time": "2023-08-18T07:32:25.055049Z",
     "start_time": "2023-08-18T07:32:25.021823Z"
    }
   },
   "outputs": [
    {
     "name": "stdout",
     "output_type": "stream",
     "text": [
      "FloPy is using the following executable to run the model: ../../modflow/mf2005\n",
      "\n",
      "                                  MODFLOW-2005     \n",
      "    U.S. GEOLOGICAL SURVEY MODULAR FINITE-DIFFERENCE GROUND-WATER FLOW MODEL\n",
      "                             Version 1.12.00 2/3/2017                        \n",
      "\n",
      " Using NAME file: lak_test.nam \n",
      " Run start date and time (yyyy/mm/dd hh:mm:ss): 2023/08/18  9:32:25\n",
      "\n",
      " Solving:  Stress period:     1    Time step:     1    Ground-Water Flow Eqn.\n",
      " Solving:  Stress period:     2    Time step:     1    Ground-Water Flow Eqn.\n",
      " Solving:  Stress period:     3    Time step:     1    Ground-Water Flow Eqn.\n",
      " Run end date and time (yyyy/mm/dd hh:mm:ss): 2023/08/18  9:32:25\n",
      " Elapsed run time:  0.006 Seconds\n",
      "\n",
      "  Normal termination of simulation\n"
     ]
    },
    {
     "data": {
      "text/plain": "(True, [])"
     },
     "execution_count": 12,
     "metadata": {},
     "output_type": "execute_result"
    }
   ],
   "source": [
    "model.write_input()\n",
    "model.run_model()"
   ]
  },
  {
   "cell_type": "markdown",
   "metadata": {},
   "source": [
    "### Read calculated data"
   ]
  },
  {
   "cell_type": "code",
   "execution_count": 13,
   "metadata": {
    "ExecuteTime": {
     "end_time": "2023-08-18T07:32:25.066280Z",
     "start_time": "2023-08-18T07:32:25.056787Z"
    }
   },
   "outputs": [
    {
     "data": {
      "text/plain": "array([[[ 100.      ,   99.11863 ,   98.20165 ,   97.21149 ,\n           96.12289 ,   94.99999 ,   93.87709 ,   92.78849 ,\n           91.798325,   90.88136 ,   90.      ],\n        [ 100.      ,   99.201004,   98.371086,   97.43926 ,\n           96.202415,   94.99999 ,   93.79757 ,   92.560715,\n           91.6289  ,   90.79899 ,   90.      ],\n        [ 100.      ,   99.35492 ,   98.77635 ,   98.37291 ,\n         -999.99    , -999.99    , -999.99    ,   91.627075,\n           91.22363 ,   90.64507 ,   90.      ],\n        [ 100.      ,   99.35492 ,   98.77635 ,   98.37291 ,\n         -999.99    , -999.99    , -999.99    ,   91.627075,\n           91.22363 ,   90.64507 ,   90.      ],\n        [ 100.      ,   99.201004,   98.371086,   97.43926 ,\n           96.202415,   94.99999 ,   93.79757 ,   92.560715,\n           91.6289  ,   90.79899 ,   90.      ],\n        [ 100.      ,   99.11863 ,   98.20165 ,   97.21149 ,\n           96.12289 ,   94.99999 ,   93.87709 ,   92.78849 ,\n           91.798325,   90.88136 ,   90.      ]]], dtype=float32)"
     },
     "execution_count": 13,
     "metadata": {},
     "output_type": "execute_result"
    }
   ],
   "source": [
    "import flopy.utils as fu\n",
    "\n",
    "hds = fu.HeadFile(os.path.join(workspace, 'lak_test.hds'))\n",
    "h = hds.get_data(kstpkper=(0,0))\n",
    "h"
   ]
  }
 ],
 "metadata": {
  "kernelspec": {
   "display_name": "Python 3 (ipykernel)",
   "language": "python",
   "name": "python3"
  },
  "language_info": {
   "codemirror_mode": {
    "name": "ipython",
    "version": 3
   },
   "file_extension": ".py",
   "mimetype": "text/x-python",
   "name": "python",
   "nbconvert_exporter": "python",
   "pygments_lexer": "ipython3",
   "version": "3.11.4"
  }
 },
 "nbformat": 4,
 "nbformat_minor": 2
}
