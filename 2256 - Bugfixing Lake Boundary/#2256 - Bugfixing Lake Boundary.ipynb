{
 "cells": [
  {
   "cell_type": "markdown",
   "metadata": {},
   "source": [
    "## First we need all necessary imports"
   ]
  },
  {
   "cell_type": "code",
   "execution_count": 1,
   "metadata": {
    "ExecuteTime": {
     "end_time": "2023-08-18T14:19:35.512328Z",
     "start_time": "2023-08-18T14:19:34.825120Z"
    }
   },
   "outputs": [],
   "source": [
    "import os\n",
    "import numpy as np\n",
    "import flopy.modflow as mf\n",
    "import shutil\n",
    "import geojson\n",
    "import pyproj"
   ]
  },
  {
   "cell_type": "markdown",
   "metadata": {},
   "source": [
    "* The modflow-files will be stored in './workspace' \n",
    "* Each calculation will delete the files"
   ]
  },
  {
   "cell_type": "code",
   "execution_count": 2,
   "metadata": {
    "ExecuteTime": {
     "end_time": "2023-08-18T14:19:35.519941Z",
     "start_time": "2023-08-18T14:19:35.513894Z"
    }
   },
   "outputs": [],
   "source": [
    "workspace = os.path.join('workspace')\n",
    "\n",
    "if os.path.exists(workspace):\n",
    "    shutil.rmtree(workspace)\n",
    "    \n",
    "if not os.path.exists(workspace):\n",
    "    os.makedirs(workspace)\n"
   ]
  },
  {
   "cell_type": "markdown",
   "source": [],
   "metadata": {
    "collapsed": false
   }
  },
  {
   "cell_type": "code",
   "execution_count": 3,
   "outputs": [
    {
     "data": {
      "text/plain": "['mf', 'bas', 'dis', 'lpf', 'pcg', 'oc', 'chd', 'lak']"
     },
     "execution_count": 3,
     "metadata": {},
     "output_type": "execute_result"
    }
   ],
   "source": [
    "import json\n",
    "f = open('configuration.json')\n",
    "configuration = json.load(f)\n",
    "f.close()\n",
    "\n",
    "modflow_data = configuration['data']['mf']\n",
    "modflow_package_list = modflow_data['packages']\n",
    "\n",
    "modflow_package_list"
   ],
   "metadata": {
    "collapsed": false,
    "ExecuteTime": {
     "end_time": "2023-08-18T14:19:35.532440Z",
     "start_time": "2023-08-18T14:19:35.523921Z"
    }
   }
  },
  {
   "cell_type": "code",
   "execution_count": 4,
   "metadata": {
    "ExecuteTime": {
     "end_time": "2023-08-18T14:19:35.558476Z",
     "start_time": "2023-08-18T14:19:35.531759Z"
    }
   },
   "outputs": [],
   "source": [
    "from MfPackages import MfAdapter\n",
    "mf_data_obj = modflow_data['mf']\n",
    "mf_data_obj['modelname'] = 'lak_test'\n",
    "mf_data_obj['exe_name'] = '../modflow/mf2005'\n",
    "mf_data_obj['model_ws'] = workspace\n",
    "model = MfAdapter(mf_data_obj).get_package()"
   ]
  },
  {
   "cell_type": "code",
   "execution_count": 5,
   "outputs": [],
   "source": [
    "from MfPackages import DisAdapter\n",
    "dis = DisAdapter(modflow_data['dis']).get_package(model)"
   ],
   "metadata": {
    "collapsed": false,
    "ExecuteTime": {
     "end_time": "2023-08-18T14:19:35.559023Z",
     "start_time": "2023-08-18T14:19:35.546255Z"
    }
   }
  },
  {
   "cell_type": "code",
   "execution_count": 6,
   "outputs": [],
   "source": [
    "from MfPackages import BasAdapter\n",
    "bas = BasAdapter(modflow_data['bas']).get_package(model)"
   ],
   "metadata": {
    "collapsed": false,
    "ExecuteTime": {
     "end_time": "2023-08-18T14:19:35.559109Z",
     "start_time": "2023-08-18T14:19:35.549086Z"
    }
   }
  },
  {
   "cell_type": "code",
   "execution_count": 7,
   "outputs": [],
   "source": [
    "from MfPackages import ChdAdapter\n",
    "chd = ChdAdapter(modflow_data['chd']).get_package(model)"
   ],
   "metadata": {
    "collapsed": false,
    "ExecuteTime": {
     "end_time": "2023-08-18T14:19:35.559709Z",
     "start_time": "2023-08-18T14:19:35.557807Z"
    }
   }
  },
  {
   "cell_type": "code",
   "execution_count": 8,
   "outputs": [],
   "source": [
    "from MfPackages import LakAdapter\n",
    "lak = LakAdapter(modflow_data['lak']).get_package(model)"
   ],
   "metadata": {
    "collapsed": false,
    "ExecuteTime": {
     "end_time": "2023-08-18T14:19:35.565536Z",
     "start_time": "2023-08-18T14:19:35.560934Z"
    }
   }
  },
  {
   "cell_type": "code",
   "execution_count": 9,
   "outputs": [],
   "source": [
    "from MfPackages import LpfAdapter\n",
    "lpf = LpfAdapter(modflow_data['lpf']).get_package(model)"
   ],
   "metadata": {
    "collapsed": false,
    "ExecuteTime": {
     "end_time": "2023-08-18T14:19:35.572009Z",
     "start_time": "2023-08-18T14:19:35.565164Z"
    }
   }
  },
  {
   "cell_type": "code",
   "execution_count": 10,
   "outputs": [],
   "source": [
    "from MfPackages import PcgAdapter\n",
    "pcg = PcgAdapter(modflow_data['pcg']).get_package(model)"
   ],
   "metadata": {
    "collapsed": false,
    "ExecuteTime": {
     "end_time": "2023-08-18T14:19:35.576533Z",
     "start_time": "2023-08-18T14:19:35.569421Z"
    }
   }
  },
  {
   "cell_type": "code",
   "execution_count": 11,
   "outputs": [],
   "source": [
    "from MfPackages import OcAdapter\n",
    "oc = OcAdapter(modflow_data['oc']).get_package(model)"
   ],
   "metadata": {
    "collapsed": false,
    "ExecuteTime": {
     "end_time": "2023-08-18T14:19:35.580448Z",
     "start_time": "2023-08-18T14:19:35.575420Z"
    }
   }
  },
  {
   "cell_type": "markdown",
   "metadata": {},
   "source": [
    "### Calculate the model"
   ]
  },
  {
   "cell_type": "code",
   "execution_count": 12,
   "metadata": {
    "ExecuteTime": {
     "end_time": "2023-08-18T14:19:35.615319Z",
     "start_time": "2023-08-18T14:19:35.578406Z"
    }
   },
   "outputs": [
    {
     "name": "stdout",
     "output_type": "stream",
     "text": [
      "FloPy is using the following executable to run the model: ../../modflow/mf2005\n",
      "\n",
      "                                  MODFLOW-2005     \n",
      "    U.S. GEOLOGICAL SURVEY MODULAR FINITE-DIFFERENCE GROUND-WATER FLOW MODEL\n",
      "                             Version 1.12.00 2/3/2017                        \n",
      "\n",
      " Using NAME file: lak_test.nam \n",
      " Run start date and time (yyyy/mm/dd hh:mm:ss): 2023/08/18 16:19:35\n",
      "\n",
      " Solving:  Stress period:     1    Time step:     1    Ground-Water Flow Eqn.\n",
      " Solving:  Stress period:     2    Time step:     1    Ground-Water Flow Eqn.\n",
      " Solving:  Stress period:     3    Time step:     1    Ground-Water Flow Eqn.\n",
      " Run end date and time (yyyy/mm/dd hh:mm:ss): 2023/08/18 16:19:35\n",
      " Elapsed run time:  0.008 Seconds\n",
      "\n",
      "  Normal termination of simulation\n"
     ]
    },
    {
     "data": {
      "text/plain": "(True, [])"
     },
     "execution_count": 12,
     "metadata": {},
     "output_type": "execute_result"
    }
   ],
   "source": [
    "model.write_input()\n",
    "model.run_model()"
   ]
  },
  {
   "cell_type": "markdown",
   "metadata": {},
   "source": [
    "### Read calculated data"
   ]
  },
  {
   "cell_type": "code",
   "execution_count": 13,
   "metadata": {
    "ExecuteTime": {
     "end_time": "2023-08-18T14:19:35.622021Z",
     "start_time": "2023-08-18T14:19:35.614358Z"
    }
   },
   "outputs": [
    {
     "data": {
      "text/plain": "array([[[ 100.      ,   99.11863 ,   98.20165 ,   97.21149 ,\n           96.12289 ,   94.99999 ,   93.87709 ,   92.78849 ,\n           91.798325,   90.88136 ,   90.      ],\n        [ 100.      ,   99.201004,   98.371086,   97.43926 ,\n           96.202415,   94.99999 ,   93.79757 ,   92.560715,\n           91.6289  ,   90.79899 ,   90.      ],\n        [ 100.      ,   99.35492 ,   98.77635 ,   98.37291 ,\n         -999.99    , -999.99    , -999.99    ,   91.627075,\n           91.22363 ,   90.64507 ,   90.      ],\n        [ 100.      ,   99.35492 ,   98.77635 ,   98.37291 ,\n         -999.99    , -999.99    , -999.99    ,   91.627075,\n           91.22363 ,   90.64507 ,   90.      ],\n        [ 100.      ,   99.201004,   98.371086,   97.43926 ,\n           96.202415,   94.99999 ,   93.79757 ,   92.560715,\n           91.6289  ,   90.79899 ,   90.      ],\n        [ 100.      ,   99.11863 ,   98.20165 ,   97.21149 ,\n           96.12289 ,   94.99999 ,   93.87709 ,   92.78849 ,\n           91.798325,   90.88136 ,   90.      ]]], dtype=float32)"
     },
     "execution_count": 13,
     "metadata": {},
     "output_type": "execute_result"
    }
   ],
   "source": [
    "import flopy.utils as fu\n",
    "\n",
    "hds = fu.HeadFile(os.path.join(workspace, 'lak_test.hds'))\n",
    "h = hds.get_data(kstpkper=(0,0))\n",
    "h"
   ]
  }
 ],
 "metadata": {
  "kernelspec": {
   "display_name": "Python 3 (ipykernel)",
   "language": "python",
   "name": "python3"
  },
  "language_info": {
   "codemirror_mode": {
    "name": "ipython",
    "version": 3
   },
   "file_extension": ".py",
   "mimetype": "text/x-python",
   "name": "python",
   "nbconvert_exporter": "python",
   "pygments_lexer": "ipython3",
   "version": "3.11.4"
  }
 },
 "nbformat": 4,
 "nbformat_minor": 2
}
